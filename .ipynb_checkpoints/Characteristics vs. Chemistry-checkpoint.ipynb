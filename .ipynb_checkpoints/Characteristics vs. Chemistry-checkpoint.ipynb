{
 "cells": [
  {
   "cell_type": "code",
   "execution_count": 1,
   "id": "e3e4afb5",
   "metadata": {},
   "outputs": [
    {
     "name": "stdout",
     "output_type": "stream",
     "text": [
      "Populating the interactive namespace from numpy and matplotlib\n"
     ]
    }
   ],
   "source": [
    "%pylab inline\n",
    "from astropy.io import fits\n",
    "import astropy.units as u\n",
    "import pickle as pickle\n",
    "import os as os\n",
    "import pandas as pd\n",
    "\n",
    "from spec_utils import read_irs\n",
    "\n",
    "from spectools_ir.utils import extract_hitran_data, spec_convol, make_rotation_diagram, get_molmass\n",
    "from spectools_ir.utils import compute_thermal_velocity, sigma_to_fwhm, fwhm_to_sigma, wn_to_k, spec_convol_R\n",
    "from spectools_ir.utils import get_miri_mrs_resolution, get_miri_mrs_wavelengths, make_miri_mrs_figure\n",
    "\n",
    "from spectools_ir.flux_calculator import calc_fluxes, make_lineshape\n",
    "\n",
    "from spectools_ir.slabspec import make_spec\n",
    "\n",
    "from spectools_ir.slab_fitter import Config, LineData,Retrieval\n",
    "from spectools_ir.slab_fitter import corner_plot, trace_plot, find_best_fit, compute_model_fluxes\n",
    "from spectools_ir.slab_fitter import calc_solid_angle, calc_radius\n",
    "from spectools_ir.slab_fitter import read_data_from_file, get_samples"
   ]
  },
  {
   "cell_type": "code",
   "execution_count": 7,
   "id": "9744f120",
   "metadata": {},
   "outputs": [
    {
     "name": "stdout",
     "output_type": "stream",
     "text": [
      "          Star Disk_has_Rings      HCN_flux  HCN_flux_uncertainty\n",
      "3       RU Lup           TRUE  3.690000e-17          3.900000e-18\n",
      "9       AS 205          FALSE  2.200000e-16          1.950000e-17\n",
      "12     DoAr 25           TRUE  4.880000e-17          1.700000e-18\n",
      "17     WaOph 6           TRUE  1.710000e-17          2.000000e-18\n",
      "18      AS 209           TRUE  6.800000e-17          1.510000e-17\n",
      "20      FZ Tau            -99  5.690000e-17          8.720000e-18\n",
      "21      TW Cha            -99  2.270000e-17          6.000000e-19\n",
      "22      VZ Cha            -99  3.690000e-17          1.400000e-18\n",
      "23      GQ Lup           TRUE  3.900000e-17          1.600000e-18\n",
      "24  IRAS 04385            -99  2.240000e-17          3.420000e-18\n",
      "26      CI Tau           TRUE  3.900000e-16          2.950000e-17\n",
      "28      IQ Tau           TRUE  5.700000e-17          3.000000e-18\n"
     ]
    }
   ],
   "source": [
    "Characteristics = pd.read_csv('Characteristics Sheet.csv')\n",
    "Chemistry = pd.read_csv('Molecular Catalog.csv')\n",
    "\n",
    "#merge the two sheets\n",
    "output1 = pd.merge(Characteristics, Chemistry,\n",
    "                  on='Star',\n",
    "                  how='outer')\n",
    "\n",
    "#read in specific columns\n",
    "df = pd.DataFrame(output1, columns=['Star','Disk_has_Rings','HCN_flux','HCN_flux_uncertainty'])\n",
    "\n",
    "#suppress rows with -99, this will leave us with only the targets where we had a detection for HCN\n",
    "df_loc = df.loc[df['HCN_flux_uncertainty'] != -99]\n",
    "\n",
    "print(df_loc)"
   ]
  },
  {
   "cell_type": "code",
   "execution_count": null,
   "id": "c21f8e21",
   "metadata": {},
   "outputs": [],
   "source": []
  }
 ],
 "metadata": {
  "kernelspec": {
   "display_name": "Python 3 (ipykernel)",
   "language": "python",
   "name": "python3"
  },
  "language_info": {
   "codemirror_mode": {
    "name": "ipython",
    "version": 3
   },
   "file_extension": ".py",
   "mimetype": "text/x-python",
   "name": "python",
   "nbconvert_exporter": "python",
   "pygments_lexer": "ipython3",
   "version": "3.9.7"
  }
 },
 "nbformat": 4,
 "nbformat_minor": 5
}
