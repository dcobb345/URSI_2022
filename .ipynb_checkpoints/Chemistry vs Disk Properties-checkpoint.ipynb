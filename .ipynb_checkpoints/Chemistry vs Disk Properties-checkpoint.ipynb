{
 "cells": [
  {
   "cell_type": "code",
   "execution_count": 2,
   "id": "cb5acaa4",
   "metadata": {},
   "outputs": [
    {
     "name": "stdout",
     "output_type": "stream",
     "text": [
      "Populating the interactive namespace from numpy and matplotlib\n"
     ]
    }
   ],
   "source": [
    "%pylab inline\n",
    "from astropy.io import fits\n",
    "import astropy.units as u\n",
    "import pickle as pickle\n",
    "import os as os\n",
    "import pandas as pd\n",
    "\n",
    "from spec_utils import read_irs\n",
    "\n",
    "from spectools_ir.utils import extract_hitran_data, spec_convol, make_rotation_diagram, get_molmass\n",
    "from spectools_ir.utils import compute_thermal_velocity, sigma_to_fwhm, fwhm_to_sigma, wn_to_k, spec_convol_R\n",
    "from spectools_ir.utils import get_miri_mrs_resolution, get_miri_mrs_wavelengths, make_miri_mrs_figure\n",
    "\n",
    "from spectools_ir.flux_calculator import calc_fluxes, make_lineshape\n",
    "\n",
    "from spectools_ir.slabspec import make_spec\n",
    "\n",
    "from spectools_ir.slab_fitter import Config, LineData,Retrieval\n",
    "from spectools_ir.slab_fitter import corner_plot, trace_plot, find_best_fit, compute_model_fluxes\n",
    "from spectools_ir.slab_fitter import calc_solid_angle, calc_radius\n",
    "from spectools_ir.slab_fitter import read_data_from_file, get_samples"
   ]
  },
  {
   "cell_type": "code",
   "execution_count": 4,
   "id": "3cf2300d",
   "metadata": {},
   "outputs": [
    {
     "name": "stderr",
     "output_type": "stream",
     "text": [
      "/Users/dougcobb/opt/anaconda3/lib/python3.9/site-packages/pandas/util/_decorators.py:311: ParserWarning: Falling back to the 'python' engine because the 'c' engine does not support skipfooter; you can avoid this warning by specifying engine='python'.\n",
      "  return func(*args, **kwargs)\n"
     ]
    }
   ],
   "source": [
    "#loading in data\n",
    "info1=pd.read_csv('Characteristics Sheet.csv')\n",
    "info1=pd.DataFrame(info1)\n",
    "\n",
    "info2=pd.read_csv('Molecular Catalog.csv',skipfooter=8)\n",
    "info2=pd.DataFrame(info2)\n",
    "\n",
    "#merge two dataframes into one\n",
    "info_master=pd.merge(info1,info2,on='Star',how='outer')"
   ]
  },
  {
   "cell_type": "code",
   "execution_count": 5,
   "id": "a1c04d17",
   "metadata": {},
   "outputs": [],
   "source": [
    "#water\n",
    "masterv2=info_master[info_master != -99]\n",
    "water=masterv2.dropna(subset=['H2O_15.17_microns','H2O_17.22_microns','H2O_29.85_microns'])\n",
    "#OH\n",
    "oh=masterv2.dropna(subset=['OH_23.2_microns','OH_27.6_microns'])\n",
    "#HCN\n",
    "hcn=masterv2.dropna(subset=['HCN_flux'])\n",
    "#C2H2\n",
    "c2h2=masterv2.dropna(subset=['C2H2_flux'])\n",
    "#CO2\n",
    "co2=masterv2.dropna(subset=['CO2_flux'])\n",
    "#NeII\n",
    "neii=masterv2.dropna(subset=['NeII_12.8_flux'])"
   ]
  },
  {
   "cell_type": "code",
   "execution_count": 12,
   "id": "016f5f2b",
   "metadata": {},
   "outputs": [
    {
     "data": {
      "image/png": "[encoded data removed]",
      "text/plain": [
       "<Figure size 432x288 with 1 Axes>"
      ]
     },
     "metadata": {
      "needs_background": "light"
     },
     "output_type": "display_data"
    }
   ],
   "source": [
    "#stacked bar chart\n",
    "spiral = np.array((len(water[water['Disk_has_spirals'] == 'TRUE']), len(oh[oh['Disk_has_spirals'] == 'TRUE']),\n",
    "len(hcn[hcn['Disk_has_spirals'] == 'TRUE']), len(c2h2[c2h2['Disk_has_spirals'] == 'TRUE']),\n",
    "len(co2[co2['Disk_has_spirals'] == 'TRUE']), len(neii[neii['Disk_has_spirals'] == 'TRUE'])))\n",
    "ring = np.array((len(water[water['Disk_has_Rings'] == 'TRUE']), len(oh[oh['Disk_has_Rings'] == 'TRUE']),\n",
    "len(hcn[hcn['Disk_has_Rings'] == 'TRUE']), len(c2h2[c2h2['Disk_has_Rings'] == 'TRUE']),\n",
    "len(co2[co2['Disk_has_Rings'] == 'TRUE']), len(neii[neii['Disk_has_Rings'] == 'TRUE'])))\n",
    "\n",
    "ind = np.arange(6) #change from 5 to 6 to reflect six molecules\n",
    "width = 0.35 #leave width for now\n",
    "p1 = plt.bar(ind, spiral, width)\n",
    "p2 = plt.bar(ind, ring, width,  bottom=spiral)\n",
    "p3 = plt.bar(ind, width,  bottom=spiral+ring)\n",
    "plt.ylabel('Percent detected')\n",
    "plt.xticks(ind, ('H2O', 'OH', 'HCN', 'C2H2', 'CO2', 'NEII')) #replace tick marks to reflect six molecules\n",
    "#plt.yticks(np.arange(0, 81, 10))\n",
    "plt.legend((p1[0], p2[0]), ('Spiral', 'Ring'))\n",
    "plt.show()"
   ]
  },
  {
   "cell_type": "code",
   "execution_count": 13,
   "id": "5366ac44",
   "metadata": {},
   "outputs": [
    {
     "data": {
      "image/png": "[encoded data removed]",
      "text/plain": [
       "<Figure size 691.2x518.4 with 1 Axes>"
      ]
     },
     "metadata": {
      "needs_background": "light"
     },
     "output_type": "display_data"
    }
   ],
   "source": [
    "#Anna's code\n",
    "\n",
    "#stacked bar chart\n",
    "#import statement\n",
    "from matplotlib import ticker\n",
    "#create blank figure\n",
    "plt.figure(figsize=(9.6,7.2))\n",
    "#spiral data\n",
    "spiral1= len(water[water['Disk_has_spirals'] == 'TRUE']) / (len(info_master[info_master['Disk_has_spirals'] == 'TRUE']))\n",
    "spiral2= len(oh[oh['Disk_has_spirals'] == 'TRUE']) / (len(info_master[info_master['Disk_has_spirals'] == 'TRUE']))\n",
    "spiral3= len(hcn[hcn['Disk_has_spirals'] == 'TRUE']) / (len(info_master[info_master['Disk_has_spirals'] == 'TRUE']))\n",
    "spiral4= len(c2h2[c2h2['Disk_has_spirals'] == 'TRUE']) / (len(info_master[info_master['Disk_has_spirals'] == 'TRUE']))\n",
    "spiral5= len(co2[co2['Disk_has_spirals'] == 'TRUE']) / (len(info_master[info_master['Disk_has_spirals'] == 'TRUE']))\n",
    "spiral6= len(neii[neii['Disk_has_spirals'] == 'TRUE']) / (len(info_master[info_master['Disk_has_spirals'] == 'TRUE']))\n",
    "spiral = 100*np.array((spiral1,spiral2,spiral3,spiral4,spiral5,spiral6))\n",
    "#ring data\n",
    "ring1= len(water[water['Disk_has_Rings'] == 'TRUE']) / (len(info_master[info_master['Disk_has_Rings'] == 'TRUE']))\n",
    "ring2= len(oh[oh['Disk_has_Rings'] == 'TRUE']) / (len(info_master[info_master['Disk_has_Rings'] == 'TRUE']))\n",
    "ring3= len(hcn[hcn['Disk_has_Rings'] == 'TRUE']) / (len(info_master[info_master['Disk_has_Rings'] == 'TRUE']))\n",
    "ring4= len(c2h2[c2h2['Disk_has_Rings'] == 'TRUE']) / (len(info_master[info_master['Disk_has_Rings'] == 'TRUE']))\n",
    "ring5= len(co2[co2['Disk_has_Rings'] == 'TRUE']) / (len(info_master[info_master['Disk_has_Rings'] == 'TRUE']))\n",
    "ring6= len(neii[neii['Disk_has_Rings'] == 'TRUE']) / (len(info_master[info_master['Disk_has_Rings'] == 'TRUE']))\n",
    "ring = 100*np.array((ring1,ring2,ring3,ring4,ring5,ring6))\n",
    "        \n",
    "#annular substructure data\n",
    "asym1= len(water[water['Disk_Asymmetry'] == 'TRUE']) / (len(info_master[info_master['Disk_Asymmetry'] == 'TRUE']))\n",
    "asym2= len(oh[oh['Disk_Asymmetry'] == 'TRUE']) / (len(info_master[info_master['Disk_Asymmetry'] == 'TRUE']))\n",
    "asym3= len(hcn[hcn['Disk_Asymmetry'] == 'TRUE']) / (len(info_master[info_master['Disk_Asymmetry'] == 'TRUE']))\n",
    "asym4= len(c2h2[c2h2['Disk_Asymmetry'] == 'TRUE']) / (len(info_master[info_master['Disk_Asymmetry'] == 'TRUE']))\n",
    "asym5= len(co2[co2['Disk_Asymmetry'] == 'TRUE']) / (len(info_master[info_master['Disk_Asymmetry'] == 'TRUE']))\n",
    "asym6= len(neii[neii['Disk_Asymmetry'] == 'TRUE']) / (len(info_master[info_master['Disk_Asymmetry'] == 'TRUE']))\n",
    "asym = 100*np.array((asym1,asym2,asym3,asym4,asym5,asym6))\n",
    "       \n",
    "ind = np.arange(6)\n",
    "width = 0.15 #leave width for now      \n",
    "p1 = plt.bar(ind, spiral, width) \n",
    "p2 = plt.bar(ind+width, ring, width)\n",
    "p3 = plt.bar(ind+width*2, asym, width)\n",
    "plt.ylabel('Percent detected')\n",
    "plt.xticks(ind, (r'H$_2$O', 'OH', 'HCN', r'C$_2$H$_2$', r'CO$_2$', '[Ne II]')) #replace tick marks to reflect six molecules\n",
    "plt.yticks(np.arange(0, 110, 10))\n",
    "plt.legend((p1[0], p2[0], p3[0]), ('Spiral', 'Ring', 'Asymmetry'))\n",
    "plt.show()"
   ]
  },
  {
   "cell_type": "code",
   "execution_count": null,
   "id": "f5c96dd0",
   "metadata": {},
   "outputs": [],
   "source": []
  }
 ],
 "metadata": {
  "kernelspec": {
   "display_name": "Python 3 (ipykernel)",
   "language": "python",
   "name": "python3"
  },
  "language_info": {
   "codemirror_mode": {
    "name": "ipython",
    "version": 3
   },
   "file_extension": ".py",
   "mimetype": "text/x-python",
   "name": "python",
   "nbconvert_exporter": "python",
   "pygments_lexer": "ipython3",
   "version": "3.9.7"
  }
 },
 "nbformat": 4,
 "nbformat_minor": 5
}
