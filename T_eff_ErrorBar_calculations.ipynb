{
 "cells": [
  {
   "cell_type": "code",
   "execution_count": 2,
   "id": "3d38b373",
   "metadata": {},
   "outputs": [
    {
     "name": "stdout",
     "output_type": "stream",
     "text": [
      "Populating the interactive namespace from numpy and matplotlib\n"
     ]
    }
   ],
   "source": [
    "%pylab inline\n",
    "from astropy.io import fits\n",
    "from astropy import units as u\n",
    "import os\n",
    "import pickle as pickle\n",
    "from astropy.stats import sigma_clipped_stats\n",
    "from astropy.time import Time\n",
    "import pandas as pd\n",
    "from tabulate import tabulate\n",
    "import matplotlib.pyplot as plt\n",
    "import numpy as np"
   ]
  },
  {
   "cell_type": "code",
   "execution_count": 25,
   "id": "47731ae0",
   "metadata": {},
   "outputs": [
    {
     "name": "stdout",
     "output_type": "stream",
     "text": [
      "      T_eff  uncertainty_log_Teff\n",
      "0   4897.79                  0.02\n",
      "1   3630.78                  0.02\n",
      "2   4265.80                  0.03\n",
      "3   4073.80                  0.02\n",
      "4   3162.28                  0.01\n",
      "5   4073.80                  0.02\n",
      "6   5128.61                  0.02\n",
      "7   7585.78                  0.02\n",
      "8   5623.41                  0.02\n",
      "9   4265.80                  0.03\n",
      "10  4073.80                  0.02\n",
      "11  3890.45                  0.03\n",
      "12  4265.80                  0.03\n",
      "13  4265.80                  0.03\n",
      "14  3890.45                  0.03\n",
      "15  4466.84                  0.03\n",
      "16  3715.35                  0.03\n",
      "17  4168.69                  0.03\n",
      "18  4265.80                  0.03\n",
      "19  9332.54                  0.03\n"
     ]
    }
   ],
   "source": [
    "data = pd.read_csv('Sources Info Sheet - Catalog.csv', skiprows=[21,22,23])\n",
    "df = pd.DataFrame(data, columns= ['T_eff','uncertainty_log_Teff'])\n",
    "df_loc = df.loc[df['T_eff'] != 'NaN']\n",
    "print (df_loc)"
   ]
  },
  {
   "cell_type": "code",
   "execution_count": 48,
   "id": "e1a142e0",
   "metadata": {},
   "outputs": [
    {
     "name": "stdout",
     "output_type": "stream",
     "text": [
      "[0.02, 0.02, 0.03, 0.02, 0.01, 0.02, 0.02, 0.02, 0.02, 0.03, 0.02, 0.03, 0.03, 0.03, 0.03, 0.03, 0.03, 0.03, 0.03, 0.03]\n",
      "[225.55156485 167.20359808 294.67102469 187.60542304  72.81418788\n",
      " 187.60542304 236.18121868 349.33807893 258.96760076 294.67102469\n",
      " 187.60542304 268.74276525 294.67102469 294.67102469 268.74276525\n",
      " 308.5583759  256.64728576 287.96290354 294.67102469 644.66902451]\n"
     ]
    }
   ],
   "source": [
    "T_eff = df['T_eff'].tolist()\n",
    "log_error = df['uncertainty_log_Teff'].tolist()\n",
    "print(log_error)\n",
    "\n",
    "T_eff_arr = np.array(T_eff)\n",
    "log_error_arr = np.array(log_error) #convert lists to arrays\n",
    "\n",
    "a = log_error_arr**2\n",
    "b = (1/(T_eff_arr*log(10)))**2\n",
    "\n",
    "uncertainty_T_eff = np.array(sqrt(a/b))\n",
    "print(uncertainty_T_eff)#array\n",
    "\n",
    "#see paper notebook for more clarity"
   ]
  },
  {
   "cell_type": "code",
   "execution_count": null,
   "id": "9775015c",
   "metadata": {},
   "outputs": [],
   "source": []
  }
 ],
 "metadata": {
  "kernelspec": {
   "display_name": "Python 3 (ipykernel)",
   "language": "python",
   "name": "python3"
  },
  "language_info": {
   "codemirror_mode": {
    "name": "ipython",
    "version": 3
   },
   "file_extension": ".py",
   "mimetype": "text/x-python",
   "name": "python",
   "nbconvert_exporter": "python",
   "pygments_lexer": "ipython3",
   "version": "3.9.7"
  }
 },
 "nbformat": 4,
 "nbformat_minor": 5
}
