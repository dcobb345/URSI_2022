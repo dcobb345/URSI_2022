{
 "cells": [
  {
   "cell_type": "code",
   "execution_count": 1,
   "id": "e3e4afb5",
   "metadata": {},
   "outputs": [
    {
     "name": "stdout",
     "output_type": "stream",
     "text": [
      "Populating the interactive namespace from numpy and matplotlib\n"
     ]
    }
   ],
   "source": [
    "%pylab inline\n",
    "from astropy.io import fits\n",
    "import astropy.units as u\n",
    "import pickle as pickle\n",
    "import os as os\n",
    "import pandas as pd\n",
    "\n",
    "from spec_utils import read_irs\n",
    "\n",
    "from spectools_ir.utils import extract_hitran_data, spec_convol, make_rotation_diagram, get_molmass\n",
    "from spectools_ir.utils import compute_thermal_velocity, sigma_to_fwhm, fwhm_to_sigma, wn_to_k, spec_convol_R\n",
    "from spectools_ir.utils import get_miri_mrs_resolution, get_miri_mrs_wavelengths, make_miri_mrs_figure\n",
    "\n",
    "from spectools_ir.flux_calculator import calc_fluxes, make_lineshape\n",
    "\n",
    "from spectools_ir.slabspec import make_spec\n",
    "\n",
    "from spectools_ir.slab_fitter import Config, LineData,Retrieval\n",
    "from spectools_ir.slab_fitter import corner_plot, trace_plot, find_best_fit, compute_model_fluxes\n",
    "from spectools_ir.slab_fitter import calc_solid_angle, calc_radius\n",
    "from spectools_ir.slab_fitter import read_data_from_file, get_samples"
   ]
  },
  {
   "cell_type": "code",
   "execution_count": 2,
   "id": "9744f120",
   "metadata": {},
   "outputs": [
    {
     "name": "stdout",
     "output_type": "stream",
     "text": [
      "          Star Disk_has_Rings      HCN_flux  HCN_flux_uncertainty\n",
      "3       RU Lup           TRUE  3.690000e-17          3.900000e-18\n",
      "9       AS 205          FALSE  2.200000e-16          1.950000e-17\n",
      "12     DoAr 25           TRUE  4.880000e-17          1.700000e-18\n",
      "17     WaOph 6           TRUE  1.710000e-17          2.000000e-18\n",
      "18      AS 209           TRUE  6.800000e-17          1.510000e-17\n",
      "20      FZ Tau            -99  5.690000e-17          8.720000e-18\n",
      "21      TW Cha            -99  2.270000e-17          6.000000e-19\n",
      "22      VZ Cha            -99  3.690000e-17          1.400000e-18\n",
      "23      GQ Lup           TRUE  3.900000e-17          1.600000e-18\n",
      "24  IRAS 04385            -99  2.240000e-17          3.420000e-18\n",
      "26      CI Tau           TRUE  3.900000e-16          2.950000e-17\n",
      "28      IQ Tau           TRUE  5.700000e-17          3.000000e-18\n"
     ]
    }
   ],
   "source": [
    "Characteristics = pd.read_csv('Characteristics Sheet.csv')\n",
    "Chemistry = pd.read_csv('Molecular Catalog.csv')\n",
    "\n",
    "#merge the two sheets\n",
    "output1 = pd.merge(Characteristics, Chemistry,\n",
    "                  on='Star',\n",
    "                  how='outer')\n",
    "\n",
    "#read in specific columns\n",
    "df = pd.DataFrame(output1, columns=['Star','Disk_has_Rings','HCN_flux','HCN_flux_uncertainty'])\n",
    "\n",
    "#suppress rows with -99, this will leave us with only the targets where we had a detection for HCN\n",
    "df_loc = df.loc[df['HCN_flux_uncertainty'] != -99]\n",
    "\n",
    "print(df_loc)"
   ]
  },
  {
   "cell_type": "code",
   "execution_count": 3,
   "id": "c21f8e21",
   "metadata": {},
   "outputs": [
    {
     "name": "stdout",
     "output_type": "stream",
     "text": [
      "          Star Disk_has_Rings     C2H2_flux  C2H2_flux_uncertainty\n",
      "9       AS 205          FALSE  2.110000e-16           1.500000e-17\n",
      "12     DoAr 25           TRUE  9.900000e-18           1.300000e-18\n",
      "18      AS 209           TRUE  2.790000e-17           6.140000e-18\n",
      "20      FZ Tau            -99  3.530000e-17           8.530000e-18\n",
      "21      TW Cha            -99  1.360000e-17           5.000000e-19\n",
      "22      VZ Cha            -99  4.590000e-17           1.000000e-18\n",
      "24  IRAS 04385            -99  9.450000e-18           2.100000e-18\n",
      "26      CI Tau           TRUE  2.170000e-17           4.440000e-18\n",
      "28      IQ Tau           TRUE  4.120000e-17           2.300000e-18\n"
     ]
    }
   ],
   "source": [
    "#read in specific columns\n",
    "df = pd.DataFrame(output1, columns=['Star','Disk_has_Rings','C2H2_flux','C2H2_flux_uncertainty'])\n",
    "\n",
    "#suppress rows with -99, this will leave us with only the targets where we had a detection for HCN\n",
    "df_loc = df.loc[df['C2H2_flux_uncertainty'] != -99]\n",
    "\n",
    "print(df_loc)"
   ]
  },
  {
   "cell_type": "code",
   "execution_count": 4,
   "id": "aa969a40",
   "metadata": {},
   "outputs": [
    {
     "name": "stdout",
     "output_type": "stream",
     "text": [
      "          Star Disk_has_Rings      CO2_flux  CO2_flux_uncertainty\n",
      "0       HT Lup          FALSE  5.580000e-17          1.080000e-17\n",
      "1       GW Lup           TRUE  2.080000e-17          1.300000e-18\n",
      "2       IM Lup           TRUE  8.600000e-18          1.500000e-18\n",
      "3       RU Lup           TRUE  1.410000e-17          3.100000e-18\n",
      "9       AS 205          FALSE  2.330000e-16          1.600000e-17\n",
      "17     WaOph 6           TRUE  2.560000e-17          1.700000e-18\n",
      "18      AS 209           TRUE  1.810000e-16          5.180000e-17\n",
      "20      FZ Tau            -99  2.590000e-16          4.590000e-17\n",
      "24  IRAS 04385            -99  3.260000e-17          7.610000e-18\n",
      "26      CI Tau           TRUE  5.860000e-18          1.090000e-18\n"
     ]
    }
   ],
   "source": [
    "#read in specific columns\n",
    "df = pd.DataFrame(output1, columns=['Star','Disk_has_Rings','CO2_flux','CO2_flux_uncertainty'])\n",
    "\n",
    "#suppress rows with -99, this will leave us with only the targets where we had a detection for HCN\n",
    "df_loc = df.loc[df['CO2_flux_uncertainty'] != -99]\n",
    "\n",
    "print(df_loc)"
   ]
  },
  {
   "cell_type": "code",
   "execution_count": 5,
   "id": "3dd7b1c7",
   "metadata": {},
   "outputs": [
    {
     "name": "stdout",
     "output_type": "stream",
     "text": [
      "          Star Disk_has_Rings  NeII_12.8_flux  NeII_12.8_flux_uncertainty\n",
      "2       IM Lup           TRUE    6.100000e-17                1.600000e-17\n",
      "4       Sz 114           TRUE             NaN                         NaN\n",
      "5       Sz 129           TRUE             NaN                         NaN\n",
      "6       MY Lup           TRUE             NaN                         NaN\n",
      "7    HD 142666           TRUE             NaN                         NaN\n",
      "8    HD 143006           TRUE             NaN                         NaN\n",
      "10        SR 4           TRUE             NaN                         NaN\n",
      "11    Elias 20           TRUE             NaN                         NaN\n",
      "12     DoAr 25           TRUE             NaN                         NaN\n",
      "13    Elias 24           TRUE             NaN                         NaN\n",
      "14    Elias 27           TRUE             NaN                         NaN\n",
      "15     DoAr 33           TRUE             NaN                         NaN\n",
      "16      WSB 52           TRUE             NaN                         NaN\n",
      "24  IRAS 04385            -99    1.040000e-17                2.470000e-19\n",
      "25      GK Tau          FALSE    6.010000e-18                1.310000e-18\n",
      "26      CI Tau           TRUE    6.530000e-18                6.560000e-19\n",
      "29      HP Tau          FALSE             NaN                         NaN\n",
      "30      GO Tau           TRUE             NaN                         NaN\n"
     ]
    }
   ],
   "source": [
    "#seems to be a trend of the targets that don't have rings having some of the higher fluxes\n",
    "\n",
    "#read in specific columns\n",
    "df = pd.DataFrame(output1, columns=['Star','Disk_has_Rings','NeII_12.8_flux','NeII_12.8_flux_uncertainty'])\n",
    "\n",
    "#suppress rows with -99, this will leave us with only the targets where we had a detection for HCN\n",
    "df_loc = df.loc[df['NeII_12.8_flux_uncertainty'] != -99]\n",
    "\n",
    "print(df_loc)"
   ]
  },
  {
   "cell_type": "code",
   "execution_count": 6,
   "id": "775fb921",
   "metadata": {},
   "outputs": [
    {
     "name": "stdout",
     "output_type": "stream",
     "text": [
      "         Star Disk_has_Rings  OH_23.2_microns  OH_23.2_microns_uncertainty\n",
      "9      AS 205          FALSE     1.630000e-16                 5.800000e-18\n",
      "17    WaOph 6           TRUE     4.610000e-17                 1.300000e-18\n",
      "19  HD 163296           TRUE     4.860000e-15                 6.130000e-16\n",
      "21     TW Cha            -99     1.640000e-17                 4.000000e-19\n",
      "22     VZ Cha            -99     2.560000e-17                 6.000000e-19\n",
      "23     GQ Lup           TRUE     3.260000e-17                 1.200000e-18\n"
     ]
    }
   ],
   "source": [
    "#read in specific columns\n",
    "df = pd.DataFrame(output1, columns=['Star','Disk_has_Rings','OH_23.2_microns','OH_23.2_microns_uncertainty'])\n",
    "\n",
    "#suppress rows with -99, this will leave us with only the targets where we had a detection for HCN\n",
    "df_loc = df.loc[df['OH_23.2_microns_uncertainty'] != -99]\n",
    "\n",
    "print(df_loc)"
   ]
  },
  {
   "cell_type": "code",
   "execution_count": 7,
   "id": "8a66080d",
   "metadata": {},
   "outputs": [
    {
     "name": "stdout",
     "output_type": "stream",
     "text": [
      "       Star Disk_has_Rings  OH_27.6_microns  OH_27.6_microns_uncertainty\n",
      "9    AS 205          FALSE     4.770000e-16                 6.800000e-18\n",
      "17  WaOph 6           TRUE     4.230000e-17                 1.500000e-18\n",
      "21   TW Cha            -99     1.990000e-17                 5.000000e-19\n",
      "22   VZ Cha            -99     2.790000e-17                 7.000000e-19\n",
      "23   GQ Lup           TRUE     5.520000e-17                 1.400000e-18\n"
     ]
    }
   ],
   "source": [
    "#read in specific columns\n",
    "df = pd.DataFrame(output1, columns=['Star','Disk_has_Rings','OH_27.6_microns','OH_27.6_microns_uncertainty'])\n",
    "\n",
    "#suppress rows with -99, this will leave us with only the targets where we had a detection for HCN\n",
    "df_loc = df.loc[df['OH_27.6_microns_uncertainty'] != -99]\n",
    "\n",
    "print(df_loc)"
   ]
  },
  {
   "cell_type": "code",
   "execution_count": 9,
   "id": "e38e38db",
   "metadata": {},
   "outputs": [
    {
     "name": "stdout",
     "output_type": "stream",
     "text": [
      "          Star Disk_has_Rings  H2O_29.85_microns  H2O_29.85_uncertainty\n",
      "0       HT Lup          FALSE       1.170000e-14           1.500000e-18\n",
      "3       RU Lup           TRUE       2.410000e-17           8.000000e-19\n",
      "9       AS 205          FALSE       9.350000e-17           4.800000e-18\n",
      "17     WaOph 6           TRUE       1.060000e-17           5.000000e-19\n",
      "18      AS 209           TRUE       1.940000e-17           3.730000e-18\n",
      "20      FZ Tau            -99       3.470000e-17           6.820000e-18\n",
      "21      TW Cha            -99       5.500000e-18           2.000000e-19\n",
      "22      VZ Cha            -99       7.500000e-18           2.000000e-19\n",
      "23      GQ Lup           TRUE       1.330000e-17           4.000000e-19\n",
      "24  IRAS 04385            -99       2.890000e-17           8.850000e-18\n",
      "25      GK Tau          FALSE       2.740000e-17           6.660000e-18\n"
     ]
    }
   ],
   "source": [
    "#read in specific columns\n",
    "df = pd.DataFrame(output1, columns=['Star','Disk_has_Rings','H2O_29.85_microns','H2O_29.85_uncertainty'])\n",
    "\n",
    "#suppress rows with -99, this will leave us with only the targets where we had a detection for HCN\n",
    "df_loc = df.loc[df['H2O_29.85_uncertainty'] != -99]\n",
    "\n",
    "print(df_loc)"
   ]
  },
  {
   "cell_type": "code",
   "execution_count": 10,
   "id": "05cf9f09",
   "metadata": {},
   "outputs": [
    {
     "name": "stdout",
     "output_type": "stream",
     "text": [
      "       Star Disk_has_Rings  H2O_17.22_microns  H2O_17.22_uncertainty\n",
      "3    RU Lup           TRUE       3.490000e-17           1.400000e-18\n",
      "9    AS 205          FALSE       1.820000e-16           7.400000e-18\n",
      "17  WaOph 6           TRUE       1.540000e-17           7.000000e-19\n",
      "20   FZ Tau            -99       6.580000e-17           2.220000e-18\n",
      "21   TW Cha            -99       1.040000e-17           3.000000e-19\n",
      "22   VZ Cha            -99       1.390000e-17           5.000000e-19\n",
      "23   GQ Lup           TRUE       1.390000e-17           6.000000e-19\n",
      "26   CI Tau           TRUE       1.010000e-17           2.870000e-18\n",
      "28   IQ Tau           TRUE       9.000000e-18           9.000000e-19\n"
     ]
    }
   ],
   "source": [
    "#read in specific columns\n",
    "df = pd.DataFrame(output1, columns=['Star','Disk_has_Rings','H2O_17.22_microns','H2O_17.22_uncertainty'])\n",
    "\n",
    "#suppress rows with -99, this will leave us with only the targets where we had a detection for HCN\n",
    "df_loc = df.loc[df['H2O_17.22_uncertainty'] != -99]\n",
    "\n",
    "print(df_loc)"
   ]
  },
  {
   "cell_type": "code",
   "execution_count": 11,
   "id": "2de29be7",
   "metadata": {},
   "outputs": [
    {
     "name": "stdout",
     "output_type": "stream",
     "text": [
      "          Star Disk_has_Rings  H2O_15.17_microns  H2O_15.17_uncertainty\n",
      "3       RU Lup           TRUE       2.500000e-17           1.300000e-18\n",
      "9       AS 205          FALSE       1.160000e-16           6.500000e-18\n",
      "17     WaOph 6           TRUE       1.570000e-17           7.000000e-19\n",
      "20      FZ Tau            -99       4.500000e-17           3.850000e-18\n",
      "21      TW Cha            -99       6.100000e-18           2.000000e-19\n",
      "22      VZ Cha            -99       9.400000e-18           5.000000e-19\n",
      "23      GQ Lup           TRUE       7.100000e-18           6.000000e-19\n",
      "24  IRAS 04385            -99       6.050000e-18           1.650000e-18\n",
      "25      GK Tau          FALSE       6.790000e-18           1.970000e-18\n",
      "26      CI Tau           TRUE       1.310000e-17           1.410000e-18\n",
      "28      IQ Tau           TRUE       5.700000e-18           1.000000e-18\n"
     ]
    }
   ],
   "source": [
    "#read in specific columns\n",
    "df = pd.DataFrame(output1, columns=['Star','Disk_has_Rings','H2O_15.17_microns','H2O_15.17_uncertainty'])\n",
    "\n",
    "#suppress rows with -99, this will leave us with only the targets where we had a detection for HCN\n",
    "df_loc = df.loc[df['H2O_15.17_uncertainty'] != -99]\n",
    "\n",
    "print(df_loc)"
   ]
  },
  {
   "cell_type": "code",
   "execution_count": null,
   "id": "1dd89f64",
   "metadata": {},
   "outputs": [],
   "source": []
  }
 ],
 "metadata": {
  "kernelspec": {
   "display_name": "Python 3 (ipykernel)",
   "language": "python",
   "name": "python3"
  },
  "language_info": {
   "codemirror_mode": {
    "name": "ipython",
    "version": 3
   },
   "file_extension": ".py",
   "mimetype": "text/x-python",
   "name": "python",
   "nbconvert_exporter": "python",
   "pygments_lexer": "ipython3",
   "version": "3.9.7"
  }
 },
 "nbformat": 4,
 "nbformat_minor": 5
}
